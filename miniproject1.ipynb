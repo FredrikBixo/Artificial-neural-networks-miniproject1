{
 "cells": [
  {
   "cell_type": "markdown",
   "metadata": {},
   "source": [
    "# Miniproject 1: Image Classification\n",
    "\n",
    "## Introduction\n",
    "\n",
    "### Important dates:\n",
    "\n",
    "- Project release: Friday, 15th March 2019\n",
    "- **Submission deadline**: Monday, 29th April 2019, 11:59 pm\n",
    "\n",
    "### Description\n",
    "\n",
    "One of the deepest traditions in learning about deep learning is to first [tackle the exciting problem of MNIST classification](http://yann.lecun.com/exdb/mnist/). [The MNIST database](https://en.wikipedia.org/wiki/MNIST_database) (Modified National Institute of Standards and Technology database) is a large database of handwritten digits that is commonly used as a first test for new classification algorithms. \n",
    "We follow this tradition to investigate the performance of artificial neural networks of different complexity on MNIST. However, since MNIST is too easy for accessing the full power of modern machine learning algorithms (see e.g. [this post](https://twitter.com/goodfellow_ian/status/852591106655043584)) we will extend our analysis to the recently introduced, harder [Fashion-MNIST dataset](https://github.com/zalandoresearch/fashion-mnist).\n",
    "\n",
    "\n",
    "### Prerequisites\n",
    "\n",
    "- You should have a running installation of [tensorflow](https://www.tensorflow.org/install/) and [keras](https://keras.io/). Feel free to gain inspiration from the [Keras example directory](https://github.com/keras-team/keras/tree/master/examples) for your implementations.\n",
    "- You should know the concepts \"multilayer perceptron\", \"stochastic gradient descent with minibatches\", \"convolutional neural network\", \"training and validation data\", \"overfitting\" and \"early stopping\".\n",
    "\n",
    "### What you will learn\n",
    "\n",
    "- You will learn how to define feedforward neural networks in keras and fit them to data.\n",
    "- You will be guided through a prototyping procedure for the application of deep learning to a specific domain.\n",
    "- You will get in contact with concepts discussed later in the lecture, like \"regularization\", \"batch normalization\" and \"convolutional networks\".\n",
    "- You will gain some experience on the influence of network architecture, optimizer and regularization choices on the goodness of fit.\n",
    "- You will learn to be more patient :) Some fits may take your computer quite a bit of time; run them over night (or on an external server).\n",
    "\n",
    "### Evaluation criteria\n",
    "\n",
    "The evaluation is (mostly) based on the figures you submit and your answer sentences. Provide clear and concise answers respecting the indicated maximum length (answers to the questions should be below the line that says \"Answer to question ...\").\n",
    "\n",
    "**The submitted notebook must be run by you!** We will only do random tests of your code and not re-run the full notebook. There will be fraud detection sessions at the end of the semester.\n",
    "\n",
    "### Your names\n",
    "\n",
    "**Before you start**: please enter your full name(s) in the field below."
   ]
  },
  {
   "cell_type": "code",
   "execution_count": 1,
   "metadata": {
    "ExecuteTime": {
     "end_time": "2018-03-09T09:08:24.514461Z",
     "start_time": "2018-03-09T09:08:24.506410Z"
    }
   },
   "outputs": [],
   "source": [
    "student1 = \"Fredrik Bixo\"\n",
    "student2 = \"Armen\""
   ]
  },
  {
   "cell_type": "markdown",
   "metadata": {
    "ExecuteTime": {
     "end_time": "2018-02-22T21:52:59.697375Z",
     "start_time": "2018-02-22T21:52:59.689443Z"
    }
   },
   "source": [
    "## Some helper functions\n",
    "\n",
    "For your convenience we provide here some functions to preprocess the data and plot the results later. Simply run the following cells with `Shift-Enter`.\n",
    "\n",
    "### Dependencies and constants"
   ]
  },
  {
   "cell_type": "code",
   "execution_count": 2,
   "metadata": {
    "ExecuteTime": {
     "end_time": "2018-02-23T14:27:09.352019Z",
     "start_time": "2018-02-23T14:27:08.476310Z"
    }
   },
   "outputs": [
    {
     "name": "stderr",
     "output_type": "stream",
     "text": [
      "Using TensorFlow backend.\n"
     ]
    }
   ],
   "source": [
    "%matplotlib inline\n",
    "\n",
    "import numpy as np\n",
    "import time\n",
    "import matplotlib.pyplot as plt\n",
    "import scipy.io\n",
    "\n",
    "import keras\n",
    "from keras.models import Sequential\n",
    "from keras.layers import Dense, Conv2D, MaxPooling2D, Dropout, Flatten\n",
    "from keras.optimizers import SGD, Adam"
   ]
  },
  {
   "cell_type": "markdown",
   "metadata": {},
   "source": [
    "### Plotting"
   ]
  },
  {
   "cell_type": "code",
   "execution_count": 3,
   "metadata": {
    "ExecuteTime": {
     "end_time": "2018-02-23T15:11:52.252208Z",
     "start_time": "2018-02-23T15:11:52.121360Z"
    }
   },
   "outputs": [],
   "source": [
    "def plot_some_samples(x, y = [], yhat = [], select_from = [], \n",
    "                      ncols = 6, nrows = 4, xdim = 28, ydim = 28,\n",
    "                      label_mapping = range(10)):\n",
    "    \"\"\"plot some input vectors as grayscale images (optionally together with their assigned or predicted labels).\n",
    "    \n",
    "    x is an NxD - dimensional array, where D is the length of an input vector and N is the number of samples.\n",
    "    Out of the N samples, ncols x nrows indices are randomly selected from the list select_from (if it is empty, select_from becomes range(N)).\n",
    "    \n",
    "    Keyword arguments:\n",
    "    y             -- corresponding labels to plot in green below each image.\n",
    "    yhat          -- corresponding predicted labels to plot in red below each image.\n",
    "    select_from   -- list of indices from which to select the images.\n",
    "    ncols, nrows  -- number of columns and rows to plot.\n",
    "    xdim, ydim    -- number of pixels of the images in x- and y-direction.\n",
    "    label_mapping -- map labels to digits.\n",
    "    \n",
    "    \"\"\"\n",
    "    fig, ax = plt.subplots(nrows, ncols)\n",
    "    if len(select_from) == 0:\n",
    "        select_from = range(x.shape[0])\n",
    "    indices = np.random.choice(select_from, size = min(ncols * nrows, len(select_from)), replace = False)\n",
    "    for i, ind in enumerate(indices):\n",
    "        thisax = ax[i//ncols,i%ncols]\n",
    "        thisax.matshow(x[ind].reshape(xdim, ydim), cmap='gray')\n",
    "        thisax.set_axis_off()\n",
    "        if len(y) != 0:\n",
    "            j = y[ind] if type(y[ind]) != np.ndarray else y[ind].argmax()\n",
    "            thisax.text(0, 0, (label_mapping[j]+1)%10, color='green', \n",
    "                                                       verticalalignment='top',\n",
    "                                                       transform=thisax.transAxes)\n",
    "        if len(yhat) != 0:\n",
    "            k = yhat[ind] if type(yhat[ind]) != np.ndarray else yhat[ind].argmax()\n",
    "            thisax.text(1, 0, (label_mapping[k]+1)%10, color='red',\n",
    "                                             verticalalignment='top',\n",
    "                                             horizontalalignment='right',\n",
    "                                             transform=thisax.transAxes)\n",
    "    return fig\n",
    "\n",
    "def prepare_standardplot(title, xlabel):\n",
    "    fig, (ax1, ax2) = plt.subplots(1, 2)\n",
    "    fig.suptitle(title)\n",
    "    ax1.set_ylabel('categorical cross entropy')\n",
    "    ax1.set_xlabel(xlabel)\n",
    "    ax1.set_yscale('log')\n",
    "    ax2.set_ylabel('accuracy [% correct]')\n",
    "    ax2.set_xlabel(xlabel)\n",
    "    return fig, ax1, ax2\n",
    "\n",
    "def finalize_standardplot(fig, ax1, ax2):\n",
    "    ax1handles, ax1labels = ax1.get_legend_handles_labels()\n",
    "    if len(ax1labels) > 0:\n",
    "        ax1.legend(ax1handles, ax1labels)\n",
    "    ax2handles, ax2labels = ax2.get_legend_handles_labels()\n",
    "    if len(ax2labels) > 0:\n",
    "        ax2.legend(ax2handles, ax2labels)\n",
    "    fig.tight_layout()\n",
    "    plt.subplots_adjust(top=0.9)\n",
    "\n",
    "def plot_history(history, title):\n",
    "    fig, ax1, ax2 = prepare_standardplot(title, 'epoch')\n",
    "    ax1.plot(history.history['loss'], label = \"training\")\n",
    "    ax1.plot(history.history['val_loss'], label = \"validation\")\n",
    "    ax2.plot(history.history['acc'], label = \"training\")\n",
    "    ax2.plot(history.history['val_acc'], label = \"validation\")\n",
    "    finalize_standardplot(fig, ax1, ax2)\n",
    "    return fig\n"
   ]
  },
  {
   "cell_type": "markdown",
   "metadata": {},
   "source": [
    "## Exercise 1: Data import and visualization (4 points)\n",
    "\n",
    "### Description\n",
    "\n",
    "### Loading the data\n",
    "\n",
    "The datasets we use in this project (MNIST, Fashion-MNIST) consists of grayscale images with 28x28 pixels. Keras comes with a convenient in-built [data importer](https://keras.io/datasets/) for common datasets.\n",
    "\n",
    "1. As a warm-up exercise, use this importer to (down-)load the MNIST and Fashion-MNIST dataset. Assign useful variables to test & train images and labels for both datasets respectively. (2 pts)\n",
    "2. Use the corresponding plotting function defined above to plot some samples of the two datasets. What do the green digits at the bottom left of each image indicate? (1 sentence max.) (2 pts)\n",
    "\n",
    "The low resolution (and grayscale) of the images certainly misses some information that could be helpful for classifying the images. However, since the data has lower dimensionality due to the low resolution, the fitting procedures converge faster. This is an advantage in situations like here (or generally when prototyping), were we want to try many different things without having to wait too long for computations to finish.\n",
    "\n"
   ]
  },
  {
   "cell_type": "markdown",
   "metadata": {},
   "source": [
    "### Solution"
   ]
  },
  {
   "cell_type": "code",
   "execution_count": 4,
   "metadata": {
    "ExecuteTime": {
     "end_time": "2018-02-23T14:27:44.442862Z",
     "start_time": "2018-02-23T14:27:09.505547Z"
    }
   },
   "outputs": [
    {
     "name": "stdout",
     "output_type": "stream",
     "text": [
      "(60000, 28, 28)\n",
      "(60000,)\n"
     ]
    }
   ],
   "source": [
    "from keras.datasets import mnist\n",
    "from keras.datasets import fashion_mnist\n",
    "\n",
    "(x_train, y_train), (x_test, y_test) = mnist.load_data()\n",
    "(x_fashion_train, y_fashion_train), (x_fashion_test, y_fashion_test) = fashion_mnist.load_data()\n",
    "\n",
    "print(x_train.shape)\n",
    "print(y_train.shape)\n",
    "\n"
   ]
  },
  {
   "cell_type": "markdown",
   "metadata": {},
   "source": [
    "Answer to question 2:"
   ]
  },
  {
   "cell_type": "markdown",
   "metadata": {},
   "source": []
  },
  {
   "cell_type": "markdown",
   "metadata": {},
   "source": [
    "**Data pre-processing**: To prepare for fitting we transform the labels to one hot coding, i.e. for 5 classes, label 2 becomes the vector [0, 0, 1, 0, 0] (python uses 0-indexing). Furthermore we reshape (flatten) the input images to input vectors and rescale the data into the range [0,1]."
   ]
  },
  {
   "cell_type": "code",
   "execution_count": 5,
   "metadata": {},
   "outputs": [
    {
     "name": "stdout",
     "output_type": "stream",
     "text": [
      "[5 0 4 ... 5 6 8]\n",
      "[[0. 0. 0. ... 0. 0. 0.]\n",
      " [1. 0. 0. ... 0. 0. 0.]\n",
      " [0. 0. 0. ... 0. 0. 0.]\n",
      " ...\n",
      " [0. 0. 0. ... 0. 0. 0.]\n",
      " [0. 0. 0. ... 0. 0. 0.]\n",
      " [0. 0. 0. ... 0. 1. 0.]]\n"
     ]
    }
   ],
   "source": [
    "print(y_train)\n",
    "y_train_c = keras.utils.to_categorical(y_train)\n",
    "y_test_c = keras.utils.to_categorical(y_test)\n",
    "print(y_train_c)\n",
    "\n",
    "y_fashion_train = keras.utils.to_categorical(y_fashion_train)\n",
    "y_fashion_test = keras.utils.to_categorical(y_fashion_test)"
   ]
  },
  {
   "cell_type": "code",
   "execution_count": 6,
   "metadata": {},
   "outputs": [],
   "source": [
    "x_train = x_train.reshape(x_train.shape[0], x_train.shape[1]*x_train.shape[2])/np.max(x_train)\n",
    "x_test = x_test.reshape(x_test.shape[0], x_test.shape[1]*x_test.shape[2])/np.max(x_test)\n",
    "\n",
    "x_fashion_train = x_fashion_train.reshape(x_fashion_train.shape[0], x_fashion_train.shape[1]*x_fashion_train.shape[2])/np.max(x_fashion_train)\n",
    "x_fashion_test = x_fashion_test.reshape(x_fashion_test.shape[0], x_fashion_test.shape[1]*x_fashion_test.shape[2])/np.max(x_fashion_test)"
   ]
  },
  {
   "cell_type": "markdown",
   "metadata": {},
   "source": [
    "### Plot MNIST-Train"
   ]
  },
  {
   "cell_type": "code",
   "execution_count": 7,
   "metadata": {},
   "outputs": [
    {
     "data": {
      "image/png": "[encoded data removed]",
      "text/plain": [
       "<Figure size 432x288 with 24 Axes>"
      ]
     },
     "metadata": {
      "needs_background": "light"
     },
     "output_type": "display_data"
    }
   ],
   "source": [
    "plot_some_samples(x_train, (y_train+9)%10);"
   ]
  },
  {
   "cell_type": "markdown",
   "metadata": {},
   "source": [
    "### Plot Fashion-MNIST-Train"
   ]
  },
  {
   "cell_type": "code",
   "execution_count": 41,
   "metadata": {},
   "outputs": [
    {
     "data": {
      "image/png": "[encoded data removed]",
      "text/plain": [
       "<Figure size 432x288 with 24 Axes>"
      ]
     },
     "metadata": {
      "needs_background": "light"
     },
     "output_type": "display_data"
    }
   ],
   "source": [
    "plot_some_samples(x_fashion_train, y_fashion_train);"
   ]
  },
  {
   "cell_type": "markdown",
   "metadata": {},
   "source": [
    "## Exercise 2: No hidden layer (10 points)\n",
    "\n",
    "### Description\n",
    "\n",
    "Define and fit a model without a hidden layer (since we will use multi-layer models later in this project, you can define a general constructor function for models with an arbitrary number of hidden layers already at this point). (1 pt for each step)\n",
    "\n",
    "1. Use the softmax activation for the output layer. D\n",
    "2. Use the categorical_crossentropy loss. D\n",
    "3. Add the accuracy metric to the metrics. D\n",
    "4. Choose stochastic gradient descent for the optimizer. D\n",
    "5. Choose a minibatch size of 128. D\n",
    "6. Fit for as many epochs as needed to see no further decrease in the validation loss.\n",
    "7. Plot the output of the fitting procedure (a history object) using the function plot_history defined above.\n",
    "8. Determine the indices of all test images that are misclassified by the fitted model and plot some of them using the function \n",
    "   `plot_some_samples(x_test, y_test, yhat_test, error_indices)`. Explain the green and red digits at the bottom of each image.\n",
    "9. Repeat the above steps for fitting the network to the Fashion-MNIST dataset.\n",
    "\n",
    "\n",
    "Hints:\n",
    "* Read the keras docs, in particular [Getting started with the Keras Sequential model](https://keras.io/getting-started/sequential-model-guide/).\n",
    "* Have a look at the keras [examples](https://github.com/keras-team/keras/tree/master/examples), e.g. [mnist_mlp](https://github.com/keras-team/keras/blob/master/examples/mnist_mlp.py)."
   ]
  },
  {
   "cell_type": "markdown",
   "metadata": {},
   "source": [
    "### Solution"
   ]
  },
  {
   "cell_type": "code",
   "execution_count": 8,
   "metadata": {},
   "outputs": [
    {
     "name": "stdout",
     "output_type": "stream",
     "text": [
      "_________________________________________________________________\n",
      "Layer (type)                 Output Shape              Param #   \n",
      "=================================================================\n",
      "dense_1 (Dense)              (None, 10)                7850      \n",
      "=================================================================\n",
      "Total params: 7,850\n",
      "Trainable params: 7,850\n",
      "Non-trainable params: 0\n",
      "_________________________________________________________________\n",
      "Train on 60000 samples, validate on 10000 samples\n",
      "Epoch 1/10\n",
      "60000/60000 [==============================] - 1s 20us/step - loss: 1.2875 - acc: 0.6900 - val_loss: 0.8118 - val_acc: 0.8344\n",
      "Epoch 2/10\n",
      "60000/60000 [==============================] - 1s 16us/step - loss: 0.7192 - acc: 0.8395 - val_loss: 0.6066 - val_acc: 0.8641\n",
      "Epoch 3/10\n",
      "60000/60000 [==============================] - 1s 16us/step - loss: 0.5886 - acc: 0.8591 - val_loss: 0.5246 - val_acc: 0.8764\n",
      "Epoch 4/10\n",
      "60000/60000 [==============================] - 1s 11us/step - loss: 0.5261 - acc: 0.8682 - val_loss: 0.4786 - val_acc: 0.8817\n",
      "Epoch 5/10\n",
      "60000/60000 [==============================] - 1s 12us/step - loss: 0.4882 - acc: 0.8750 - val_loss: 0.4486 - val_acc: 0.8866\n",
      "Epoch 6/10\n",
      "60000/60000 [==============================] - 1s 12us/step - loss: 0.4620 - acc: 0.8797 - val_loss: 0.4275 - val_acc: 0.8896\n",
      "Epoch 7/10\n",
      "60000/60000 [==============================] - 1s 11us/step - loss: 0.4427 - acc: 0.8834 - val_loss: 0.4117 - val_acc: 0.8931\n",
      "Epoch 8/10\n",
      "60000/60000 [==============================] - 1s 15us/step - loss: 0.4277 - acc: 0.8861 - val_loss: 0.3987 - val_acc: 0.8956\n",
      "Epoch 9/10\n",
      "60000/60000 [==============================] - 1s 13us/step - loss: 0.4156 - acc: 0.8888 - val_loss: 0.3882 - val_acc: 0.8989\n",
      "Epoch 10/10\n",
      "60000/60000 [==============================] - 1s 13us/step - loss: 0.4055 - acc: 0.8904 - val_loss: 0.3796 - val_acc: 0.9003\n",
      "Target values: [7 2 1 ... 4 5 6]\n",
      "Predicted values: [7 2 1 ... 4 8 6]\n",
      "Test loss: 0.3796306713461876\n",
      "Test accuracy: 0.9003\n"
     ]
    },
    {
     "data": {
      "image/png": "[encoded data removed]",
      "text/plain": [
       "<Figure size 432x288 with 2 Axes>"
      ]
     },
     "metadata": {
      "needs_background": "light"
     },
     "output_type": "display_data"
    },
    {
     "data": {
      "image/png": "[encoded data removed]",
      "text/plain": [
       "<Figure size 432x288 with 24 Axes>"
      ]
     },
     "metadata": {
      "needs_background": "light"
     },
     "output_type": "display_data"
    }
   ],
   "source": [
    "from keras.models import Sequential\n",
    "from keras.layers import Dense, Activation\n",
    "from keras import optimizers\n",
    "\n",
    "batch_size = 128\n",
    "epochs = 10\n",
    "\n",
    "model = Sequential()\n",
    "\n",
    "#Input layer: 784 neurons\n",
    "\n",
    "# Output layer: 10 Neurons\n",
    "model.add(Dense(10, activation='softmax', input_dim=784))\n",
    "\n",
    "model.summary()\n",
    "\n",
    "# Optimizer:\n",
    "sgd = optimizers.SGD(lr=0.01)\n",
    "\n",
    "model.compile(loss='categorical_crossentropy',\n",
    "              optimizer=sgd,\n",
    "              metrics=['accuracy'])\n",
    "# Fitting:\n",
    "history = model.fit(x_train, y_train_c,\n",
    "                    batch_size=batch_size,\n",
    "                    epochs=epochs,\n",
    "                    verbose=1,\n",
    "                    validation_data=(x_test, y_test_c))\n",
    "\n",
    "plot_history(history, \"Hist\")\n",
    "\n",
    "score = model.evaluate(x_test, y_test_c, verbose=0)\n",
    "# test\n",
    "yhat_test = model.predict(x_test)\n",
    "\n",
    "#targetValues = y_test.argmax(axis=1)\n",
    "predictedValues = yhat_test.argmax(axis=1)\n",
    "\n",
    "missmatches = []\n",
    "\n",
    "for i in range(0, len(predictedValues)):\n",
    "    if predictedValues[i] != y_test[i]:\n",
    "        missmatches.append(i) \n",
    "        \n",
    "plot_some_samples(x_test, (y_test+9)%10, (yhat_test+9)%10,missmatches);\n",
    "    \n",
    "print('Target values:', y_test)\n",
    "print('Predicted values:', predictedValues)\n",
    "\n",
    "print('Test loss:', score[0])\n",
    "print('Test accuracy:', score[1])"
   ]
  },
  {
   "cell_type": "code",
   "execution_count": 7,
   "metadata": {},
   "outputs": [
    {
     "data": {
      "text/plain": [
       "(60000, 28, 28)"
      ]
     },
     "execution_count": 7,
     "metadata": {},
     "output_type": "execute_result"
    }
   ],
   "source": []
  },
  {
   "cell_type": "markdown",
   "metadata": {},
   "source": [
    "Answer to question 10:"
   ]
  },
  {
   "cell_type": "markdown",
   "metadata": {},
   "source": []
  },
  {
   "cell_type": "markdown",
   "metadata": {},
   "source": [
    "## Exercise 3: One hidden layer, different optizimizers & overfitting (10 points)\n",
    "\n",
    "### Description\n",
    "\n",
    "Train a network with one hidden layer and compare different optimizers.\n",
    "\n",
    "1. Use one hidden layer with 128 units and the 'relu' activation. Use the [summary method](https://keras.io/models/about-keras-models/) to display your model in a compact way. (1 pt)\n",
    "2. Fit the model for 50 epochs with different learning rates of stochastic gradient descent (SGD). (1pt)\n",
    "3. Replace the stochastic gradient descent optimizer with the [Adam optimizer](https://keras.io/optimizers/#adam). (1pt)\n",
    "4. Plot the learning curves of SGD with a reasonable learning rate (i.e. in the range [0.01,0.1]) together with the learning curves of Adam in the same figure. Take care of a reasonable labeling of the curves in the plot. (2pts)\n",
    "5. Answer the questions below. (4pts)\n",
    "6. Run the network (using the Adam optimizer) on the Fashion-MNIST dataset and plot the learning curves using the plot_history function defined above. (1pt)"
   ]
  },
  {
   "cell_type": "markdown",
   "metadata": {},
   "source": [
    "### Solution"
   ]
  },
  {
   "cell_type": "code",
   "execution_count": 24,
   "metadata": {},
   "outputs": [],
   "source": [
    "# This plotting routine might help you ...\n",
    "def comparison_plot(history_sgd, history_adam, label1, label2, title):\n",
    "    fig, ax1, ax2 = prepare_standardplot(title, \"epochs\")\n",
    "    ax1.plot(history_sgd.history['loss'], label=label1 + ' training')\n",
    "    ax1.plot(history_sgd.history['val_loss'], label=label1 + ' validation')\n",
    "    ax1.plot(history_adam.history['loss'], label=label2 + ' training')\n",
    "    ax1.plot(history_adam.history['val_loss'], label=label2 + ' validation')\n",
    "    ax2.plot(history_sgd.history['acc'], label=label1 + ' training')\n",
    "    ax2.plot(history_sgd.history['val_acc'], label=label1 + ' validation')\n",
    "    ax2.plot(history_adam.history['acc'], label=label2 + ' training')\n",
    "    ax2.plot(history_adam.history['val_acc'], label=label2 + ' validation')\n",
    "    finalize_standardplot(fig, ax1, ax2)\n",
    "    return fig"
   ]
  },
  {
   "cell_type": "code",
   "execution_count": null,
   "metadata": {},
   "outputs": [
    {
     "name": "stdout",
     "output_type": "stream",
     "text": [
      "_________________________________________________________________\n",
      "Layer (type)                 Output Shape              Param #   \n",
      "=================================================================\n",
      "dense_29 (Dense)             (None, 128)               100480    \n",
      "_________________________________________________________________\n",
      "dense_30 (Dense)             (None, 10)                1290      \n",
      "=================================================================\n",
      "Total params: 101,770\n",
      "Trainable params: 101,770\n",
      "Non-trainable params: 0\n",
      "_________________________________________________________________\n",
      "Train on 60000 samples, validate on 10000 samples\n",
      "Epoch 1/50\n",
      "60000/60000 [==============================] - 2s 37us/step - loss: 1.2155 - acc: 0.7087 - val_loss: 0.6547 - val_acc: 0.8519\n",
      "Epoch 2/50\n",
      "60000/60000 [==============================] - 1s 22us/step - loss: 0.5598 - acc: 0.8621 - val_loss: 0.4593 - val_acc: 0.8853\n",
      "Epoch 3/50\n",
      "60000/60000 [==============================] - 1s 22us/step - loss: 0.4424 - acc: 0.8837 - val_loss: 0.3926 - val_acc: 0.8966\n",
      "Epoch 4/50\n",
      "60000/60000 [==============================] - 1s 22us/step - loss: 0.3915 - acc: 0.8941 - val_loss: 0.3571 - val_acc: 0.9049\n",
      "Epoch 5/50\n",
      "60000/60000 [==============================] - 1s 21us/step - loss: 0.3612 - acc: 0.8999 - val_loss: 0.3333 - val_acc: 0.9094\n",
      "Epoch 6/50\n",
      "60000/60000 [==============================] - 1s 20us/step - loss: 0.3400 - acc: 0.9054 - val_loss: 0.3167 - val_acc: 0.9133\n",
      "Epoch 7/50\n",
      "60000/60000 [==============================] - 1s 20us/step - loss: 0.3237 - acc: 0.9091 - val_loss: 0.3043 - val_acc: 0.9164\n",
      "Epoch 8/50\n",
      "60000/60000 [==============================] - 1s 20us/step - loss: 0.3104 - acc: 0.9128 - val_loss: 0.2924 - val_acc: 0.9195\n",
      "Epoch 9/50\n",
      "60000/60000 [==============================] - 1s 20us/step - loss: 0.2989 - acc: 0.9160 - val_loss: 0.2833 - val_acc: 0.9204\n",
      "Epoch 10/50\n",
      "60000/60000 [==============================] - 1s 23us/step - loss: 0.2891 - acc: 0.9186 - val_loss: 0.2753 - val_acc: 0.9219\n",
      "Epoch 11/50\n",
      "60000/60000 [==============================] - 1s 23us/step - loss: 0.2804 - acc: 0.9211 - val_loss: 0.2677 - val_acc: 0.9253\n",
      "Epoch 12/50\n",
      "60000/60000 [==============================] - 1s 23us/step - loss: 0.2723 - acc: 0.9233 - val_loss: 0.2605 - val_acc: 0.9254\n",
      "Epoch 13/50\n",
      "60000/60000 [==============================] - 1s 23us/step - loss: 0.2649 - acc: 0.9259 - val_loss: 0.2535 - val_acc: 0.9282\n",
      "Epoch 14/50\n",
      "60000/60000 [==============================] - 1s 23us/step - loss: 0.2580 - acc: 0.9274 - val_loss: 0.2480 - val_acc: 0.9292\n",
      "Epoch 15/50\n",
      "60000/60000 [==============================] - 1s 23us/step - loss: 0.2518 - acc: 0.9290 - val_loss: 0.2436 - val_acc: 0.9308\n",
      "Epoch 16/50\n",
      "60000/60000 [==============================] - 1s 23us/step - loss: 0.2459 - acc: 0.9310 - val_loss: 0.2383 - val_acc: 0.9316\n",
      "Epoch 17/50\n",
      "60000/60000 [==============================] - 1s 23us/step - loss: 0.2403 - acc: 0.9326 - val_loss: 0.2331 - val_acc: 0.9335\n",
      "Epoch 18/50\n",
      "60000/60000 [==============================] - 1s 23us/step - loss: 0.2350 - acc: 0.9343 - val_loss: 0.2287 - val_acc: 0.9344\n",
      "Epoch 19/50\n",
      "60000/60000 [==============================] - 1s 23us/step - loss: 0.2300 - acc: 0.9357 - val_loss: 0.2243 - val_acc: 0.9362\n",
      "Epoch 20/50\n",
      "60000/60000 [==============================] - 1s 23us/step - loss: 0.2253 - acc: 0.9371 - val_loss: 0.2198 - val_acc: 0.9376\n",
      "Epoch 21/50\n",
      "60000/60000 [==============================] - 1s 23us/step - loss: 0.2207 - acc: 0.9384 - val_loss: 0.2157 - val_acc: 0.9385\n",
      "Epoch 22/50\n",
      "60000/60000 [==============================] - 1s 23us/step - loss: 0.2165 - acc: 0.9400 - val_loss: 0.2120 - val_acc: 0.9388\n",
      "Epoch 23/50\n",
      "60000/60000 [==============================] - 1s 23us/step - loss: 0.2124 - acc: 0.9409 - val_loss: 0.2086 - val_acc: 0.9398\n",
      "Epoch 24/50\n",
      "60000/60000 [==============================] - 1s 23us/step - loss: 0.2085 - acc: 0.9420 - val_loss: 0.2048 - val_acc: 0.9407\n",
      "Epoch 25/50\n",
      "60000/60000 [==============================] - 1s 20us/step - loss: 0.2047 - acc: 0.9430 - val_loss: 0.2022 - val_acc: 0.9418\n",
      "Epoch 26/50\n",
      "60000/60000 [==============================] - 1s 20us/step - loss: 0.2011 - acc: 0.9443 - val_loss: 0.1986 - val_acc: 0.9433\n",
      "Epoch 27/50\n",
      "60000/60000 [==============================] - 1s 20us/step - loss: 0.1975 - acc: 0.9446 - val_loss: 0.1953 - val_acc: 0.9443\n",
      "Epoch 28/50\n",
      "60000/60000 [==============================] - 1s 22us/step - loss: 0.1942 - acc: 0.9456 - val_loss: 0.1923 - val_acc: 0.9450\n",
      "Epoch 29/50\n",
      "60000/60000 [==============================] - 1s 23us/step - loss: 0.1909 - acc: 0.9467 - val_loss: 0.1899 - val_acc: 0.9456\n",
      "Epoch 30/50\n",
      "60000/60000 [==============================] - 1s 23us/step - loss: 0.1879 - acc: 0.9472 - val_loss: 0.1865 - val_acc: 0.9461\n",
      "Epoch 31/50\n",
      "60000/60000 [==============================] - 1s 24us/step - loss: 0.1849 - acc: 0.9483 - val_loss: 0.1844 - val_acc: 0.9470\n",
      "Epoch 32/50\n",
      "60000/60000 [==============================] - 1s 22us/step - loss: 0.1820 - acc: 0.9488 - val_loss: 0.1817 - val_acc: 0.9477\n",
      "Epoch 33/50\n",
      "60000/60000 [==============================] - 1s 20us/step - loss: 0.1792 - acc: 0.9494 - val_loss: 0.1791 - val_acc: 0.9485\n",
      "Epoch 34/50\n",
      "60000/60000 [==============================] - 1s 20us/step - loss: 0.1764 - acc: 0.9501 - val_loss: 0.1772 - val_acc: 0.9489\n",
      "Epoch 35/50\n",
      "60000/60000 [==============================] - 1s 20us/step - loss: 0.1738 - acc: 0.9509 - val_loss: 0.1748 - val_acc: 0.9493\n",
      "Epoch 36/50\n",
      "60000/60000 [==============================] - 1s 20us/step - loss: 0.1712 - acc: 0.9519 - val_loss: 0.1725 - val_acc: 0.9501\n",
      "Epoch 37/50\n",
      "60000/60000 [==============================] - 1s 20us/step - loss: 0.1686 - acc: 0.9524 - val_loss: 0.1703 - val_acc: 0.9500\n",
      "Epoch 38/50\n",
      "60000/60000 [==============================] - 1s 22us/step - loss: 0.1664 - acc: 0.9532 - val_loss: 0.1682 - val_acc: 0.9507\n",
      "Epoch 39/50\n",
      "60000/60000 [==============================] - 2s 25us/step - loss: 0.1640 - acc: 0.9540 - val_loss: 0.1657 - val_acc: 0.9512\n",
      "Epoch 40/50\n",
      "60000/60000 [==============================] - 1s 24us/step - loss: 0.1617 - acc: 0.9544 - val_loss: 0.1640 - val_acc: 0.9522\n",
      "Epoch 41/50\n",
      "60000/60000 [==============================] - 1s 22us/step - loss: 0.1595 - acc: 0.9551 - val_loss: 0.1628 - val_acc: 0.9518\n",
      "Epoch 42/50\n",
      "60000/60000 [==============================] - 1s 23us/step - loss: 0.1574 - acc: 0.9559 - val_loss: 0.1608 - val_acc: 0.9527\n",
      "Epoch 43/50\n",
      "60000/60000 [==============================] - 1s 23us/step - loss: 0.1552 - acc: 0.9565 - val_loss: 0.1588 - val_acc: 0.9531\n",
      "Epoch 44/50\n",
      "60000/60000 [==============================] - 1s 23us/step - loss: 0.1532 - acc: 0.9572 - val_loss: 0.1570 - val_acc: 0.9544\n",
      "Epoch 45/50\n",
      "60000/60000 [==============================] - 1s 23us/step - loss: 0.1512 - acc: 0.9576 - val_loss: 0.1551 - val_acc: 0.9543\n",
      "Epoch 46/50\n",
      "60000/60000 [==============================] - 2s 25us/step - loss: 0.1493 - acc: 0.9579 - val_loss: 0.1538 - val_acc: 0.9551\n",
      "Epoch 47/50\n",
      "60000/60000 [==============================] - 1s 23us/step - loss: 0.1475 - acc: 0.9584 - val_loss: 0.1521 - val_acc: 0.9552\n",
      "Epoch 48/50\n",
      "60000/60000 [==============================] - 1s 23us/step - loss: 0.1456 - acc: 0.9591 - val_loss: 0.1502 - val_acc: 0.9566\n",
      "Epoch 49/50\n",
      "60000/60000 [==============================] - 1s 25us/step - loss: 0.1438 - acc: 0.9598 - val_loss: 0.1488 - val_acc: 0.9564\n",
      "Epoch 50/50\n",
      "60000/60000 [==============================] - 1s 23us/step - loss: 0.1420 - acc: 0.9599 - val_loss: 0.1472 - val_acc: 0.9571\n",
      "Train on 60000 samples, validate on 10000 samples\n",
      "Epoch 1/50\n",
      "60000/60000 [==============================] - 2s 42us/step - loss: 0.1788 - acc: 0.9452 - val_loss: 0.1297 - val_acc: 0.9595\n",
      "Epoch 2/50\n",
      "60000/60000 [==============================] - 2s 27us/step - loss: 0.1056 - acc: 0.9678 - val_loss: 0.1293 - val_acc: 0.9618\n",
      "Epoch 3/50\n",
      "60000/60000 [==============================] - 2s 27us/step - loss: 0.0930 - acc: 0.9719 - val_loss: 0.1289 - val_acc: 0.9640\n",
      "Epoch 4/50\n",
      "60000/60000 [==============================] - 2s 27us/step - loss: 0.0735 - acc: 0.9767 - val_loss: 0.1088 - val_acc: 0.9716\n",
      "Epoch 5/50\n"
     ]
    },
    {
     "name": "stdout",
     "output_type": "stream",
     "text": [
      "60000/60000 [==============================] - 2s 26us/step - loss: 0.0663 - acc: 0.9802 - val_loss: 0.1189 - val_acc: 0.9697\n",
      "Epoch 6/50\n",
      "60000/60000 [==============================] - 2s 26us/step - loss: 0.0638 - acc: 0.9810 - val_loss: 0.1323 - val_acc: 0.9691\n",
      "Epoch 7/50\n",
      "60000/60000 [==============================] - 2s 26us/step - loss: 0.0615 - acc: 0.9819 - val_loss: 0.1323 - val_acc: 0.9688\n",
      "Epoch 8/50\n",
      "60000/60000 [==============================] - 2s 26us/step - loss: 0.0579 - acc: 0.9831 - val_loss: 0.1339 - val_acc: 0.9723\n",
      "Epoch 9/50\n",
      "60000/60000 [==============================] - 2s 27us/step - loss: 0.0616 - acc: 0.9822 - val_loss: 0.1514 - val_acc: 0.9701\n",
      "Epoch 10/50\n",
      "60000/60000 [==============================] - 2s 26us/step - loss: 0.0511 - acc: 0.9868 - val_loss: 0.1363 - val_acc: 0.9734\n",
      "Epoch 11/50\n",
      "60000/60000 [==============================] - 2s 26us/step - loss: 0.0454 - acc: 0.9872 - val_loss: 0.1570 - val_acc: 0.9701\n",
      "Epoch 12/50\n",
      "60000/60000 [==============================] - 2s 27us/step - loss: 0.0504 - acc: 0.9866 - val_loss: 0.1763 - val_acc: 0.9712\n",
      "Epoch 13/50\n",
      "60000/60000 [==============================] - 2s 26us/step - loss: 0.0454 - acc: 0.9882 - val_loss: 0.1952 - val_acc: 0.9686\n",
      "Epoch 14/50\n",
      "60000/60000 [==============================] - 2s 26us/step - loss: 0.0529 - acc: 0.9868 - val_loss: 0.1703 - val_acc: 0.9722\n",
      "Epoch 15/50\n",
      "60000/60000 [==============================] - 2s 26us/step - loss: 0.0448 - acc: 0.9891 - val_loss: 0.1608 - val_acc: 0.9754\n",
      "Epoch 16/50\n",
      "60000/60000 [==============================] - 2s 26us/step - loss: 0.0423 - acc: 0.9901 - val_loss: 0.1961 - val_acc: 0.9711\n",
      "Epoch 17/50\n",
      "60000/60000 [==============================] - 2s 26us/step - loss: 0.0428 - acc: 0.9902 - val_loss: 0.2137 - val_acc: 0.9693\n",
      "Epoch 18/50\n",
      "60000/60000 [==============================] - 2s 26us/step - loss: 0.0435 - acc: 0.9903 - val_loss: 0.2276 - val_acc: 0.9703\n",
      "Epoch 19/50\n",
      "60000/60000 [==============================] - 2s 26us/step - loss: 0.0512 - acc: 0.9893 - val_loss: 0.2293 - val_acc: 0.9700\n",
      "Epoch 20/50\n",
      "60000/60000 [==============================] - 2s 26us/step - loss: 0.0438 - acc: 0.9911 - val_loss: 0.1974 - val_acc: 0.9750\n",
      "Epoch 21/50\n",
      "60000/60000 [==============================] - 2s 26us/step - loss: 0.0413 - acc: 0.9912 - val_loss: 0.2274 - val_acc: 0.9717\n",
      "Epoch 22/50\n",
      "60000/60000 [==============================] - 2s 26us/step - loss: 0.0423 - acc: 0.9917 - val_loss: 0.2516 - val_acc: 0.9706\n",
      "Epoch 23/50\n",
      "60000/60000 [==============================] - 2s 26us/step - loss: 0.0379 - acc: 0.9923 - val_loss: 0.2618 - val_acc: 0.9699\n",
      "Epoch 24/50\n",
      "60000/60000 [==============================] - 2s 27us/step - loss: 0.0413 - acc: 0.9918 - val_loss: 0.2393 - val_acc: 0.9711\n",
      "Epoch 25/50\n",
      "60000/60000 [==============================] - 2s 26us/step - loss: 0.0433 - acc: 0.9920 - val_loss: 0.2420 - val_acc: 0.9724\n",
      "Epoch 26/50\n",
      "60000/60000 [==============================] - 2s 26us/step - loss: 0.0365 - acc: 0.9929 - val_loss: 0.2451 - val_acc: 0.9735\n",
      "Epoch 27/50\n",
      "60000/60000 [==============================] - 2s 26us/step - loss: 0.0322 - acc: 0.9936 - val_loss: 0.2591 - val_acc: 0.9711\n",
      "Epoch 28/50\n",
      "60000/60000 [==============================] - 2s 26us/step - loss: 0.0452 - acc: 0.9923 - val_loss: 0.2210 - val_acc: 0.9752\n",
      "Epoch 29/50\n",
      "60000/60000 [==============================] - 2s 26us/step - loss: 0.0380 - acc: 0.9932 - val_loss: 0.2744 - val_acc: 0.9722\n",
      "Epoch 30/50\n",
      "60000/60000 [==============================] - 2s 26us/step - loss: 0.0428 - acc: 0.9929 - val_loss: 0.2695 - val_acc: 0.9738\n",
      "Epoch 31/50\n",
      "60000/60000 [==============================] - 2s 26us/step - loss: 0.0392 - acc: 0.9935 - val_loss: 0.2513 - val_acc: 0.9740\n",
      "Epoch 32/50\n",
      "60000/60000 [==============================] - 2s 26us/step - loss: 0.0434 - acc: 0.9929 - val_loss: 0.2743 - val_acc: 0.9721\n",
      "Epoch 33/50\n",
      "60000/60000 [==============================] - 2s 26us/step - loss: 0.0381 - acc: 0.9934 - val_loss: 0.3002 - val_acc: 0.9713\n",
      "Epoch 34/50\n",
      "60000/60000 [==============================] - 2s 26us/step - loss: 0.0408 - acc: 0.9940 - val_loss: 0.2836 - val_acc: 0.9729\n",
      "Epoch 35/50\n",
      "60000/60000 [==============================] - 2s 26us/step - loss: 0.0367 - acc: 0.9943 - val_loss: 0.2529 - val_acc: 0.9750\n",
      "Epoch 36/50\n",
      "60000/60000 [==============================] - 2s 26us/step - loss: 0.0421 - acc: 0.9937 - val_loss: 0.2989 - val_acc: 0.9721\n",
      "Epoch 37/50\n",
      "60000/60000 [==============================] - 2s 26us/step - loss: 0.0313 - acc: 0.9949 - val_loss: 0.2805 - val_acc: 0.9736\n",
      "Epoch 38/50\n",
      "60000/60000 [==============================] - 2s 26us/step - loss: 0.0300 - acc: 0.9952 - val_loss: 0.2704 - val_acc: 0.9749\n",
      "Epoch 39/50\n",
      "60000/60000 [==============================] - 2s 26us/step - loss: 0.0402 - acc: 0.9941 - val_loss: 0.3362 - val_acc: 0.9698\n",
      "Epoch 40/50\n",
      "60000/60000 [==============================] - 2s 26us/step - loss: 0.0449 - acc: 0.9938 - val_loss: 0.2561 - val_acc: 0.9769\n",
      "Epoch 41/50\n",
      "60000/60000 [==============================] - 2s 26us/step - loss: 0.0405 - acc: 0.9946 - val_loss: 0.3091 - val_acc: 0.9736\n",
      "Epoch 42/50\n",
      "60000/60000 [==============================] - 2s 30us/step - loss: 0.0410 - acc: 0.9944 - val_loss: 0.2788 - val_acc: 0.9751\n",
      "Epoch 43/50\n",
      "60000/60000 [==============================] - 2s 26us/step - loss: 0.0382 - acc: 0.9949 - val_loss: 0.2766 - val_acc: 0.9741\n",
      "Epoch 44/50\n",
      "60000/60000 [==============================] - 1s 24us/step - loss: 0.0392 - acc: 0.9947 - val_loss: 0.2973 - val_acc: 0.9746\n",
      "Epoch 45/50\n",
      "60000/60000 [==============================] - 1s 25us/step - loss: 0.0324 - acc: 0.9955 - val_loss: 0.3253 - val_acc: 0.9726\n",
      "Epoch 46/50\n",
      "60000/60000 [==============================] - 1s 25us/step - loss: 0.0373 - acc: 0.9952 - val_loss: 0.2707 - val_acc: 0.9767\n",
      "Epoch 47/50\n",
      "60000/60000 [==============================] - 1s 25us/step - loss: 0.0376 - acc: 0.9952 - val_loss: 0.2919 - val_acc: 0.9741\n",
      "Epoch 48/50\n",
      "60000/60000 [==============================] - 2s 25us/step - loss: 0.0422 - acc: 0.9950 - val_loss: 0.2994 - val_acc: 0.9744\n",
      "Epoch 49/50\n",
      "60000/60000 [==============================] - 2s 25us/step - loss: 0.0425 - acc: 0.9949 - val_loss: 0.2661 - val_acc: 0.9766\n",
      "Epoch 50/50\n",
      "60000/60000 [==============================] - 2s 25us/step - loss: 0.0447 - acc: 0.9949 - val_loss: 0.3087 - val_acc: 0.9747\n",
      "Train on 60000 samples, validate on 10000 samples\n",
      "Epoch 1/50\n",
      "60000/60000 [==============================] - 2s 35us/step - loss: 0.0478 - acc: 0.9948 - val_loss: 0.2949 - val_acc: 0.9754\n",
      "Epoch 2/50\n",
      "60000/60000 [==============================] - 1s 21us/step - loss: 0.0395 - acc: 0.9957 - val_loss: 0.2879 - val_acc: 0.9765\n",
      "Epoch 3/50\n",
      "60000/60000 [==============================] - 1s 21us/step - loss: 0.0343 - acc: 0.9961 - val_loss: 0.2820 - val_acc: 0.9772\n",
      "Epoch 4/50\n",
      "60000/60000 [==============================] - 1s 21us/step - loss: 0.0300 - acc: 0.9965 - val_loss: 0.2772 - val_acc: 0.9775\n",
      "Epoch 5/50\n",
      "60000/60000 [==============================] - 1s 21us/step - loss: 0.0263 - acc: 0.9969 - val_loss: 0.2726 - val_acc: 0.9777\n",
      "Epoch 6/50\n",
      "60000/60000 [==============================] - 1s 21us/step - loss: 0.0233 - acc: 0.9972 - val_loss: 0.2691 - val_acc: 0.9781\n",
      "Epoch 7/50\n",
      "60000/60000 [==============================] - 1s 21us/step - loss: 0.0211 - acc: 0.9974 - val_loss: 0.2664 - val_acc: 0.9779\n",
      "Epoch 8/50\n",
      "60000/60000 [==============================] - 1s 21us/step - loss: 0.0193 - acc: 0.9977 - val_loss: 0.2644 - val_acc: 0.9782\n",
      "Epoch 9/50\n",
      "60000/60000 [==============================] - 1s 21us/step - loss: 0.0179 - acc: 0.9978 - val_loss: 0.2630 - val_acc: 0.9783\n",
      "Epoch 10/50\n",
      "60000/60000 [==============================] - 1s 22us/step - loss: 0.0168 - acc: 0.9980 - val_loss: 0.2616 - val_acc: 0.9783\n",
      "Epoch 11/50\n",
      "60000/60000 [==============================] - 1s 21us/step - loss: 0.0159 - acc: 0.9981 - val_loss: 0.2606 - val_acc: 0.9782\n",
      "Epoch 12/50\n",
      "60000/60000 [==============================] - 1s 21us/step - loss: 0.0150 - acc: 0.9981 - val_loss: 0.2597 - val_acc: 0.9784\n",
      "Epoch 13/50\n",
      "60000/60000 [==============================] - 1s 22us/step - loss: 0.0143 - acc: 0.9981 - val_loss: 0.2591 - val_acc: 0.9787\n",
      "Epoch 14/50\n"
     ]
    },
    {
     "name": "stdout",
     "output_type": "stream",
     "text": [
      "60000/60000 [==============================] - 1s 21us/step - loss: 0.0135 - acc: 0.9983 - val_loss: 0.2586 - val_acc: 0.9788\n",
      "Epoch 15/50\n",
      "60000/60000 [==============================] - 1s 22us/step - loss: 0.0129 - acc: 0.9983 - val_loss: 0.2581 - val_acc: 0.9788\n",
      "Epoch 16/50\n",
      "60000/60000 [==============================] - 1s 19us/step - loss: 0.0123 - acc: 0.9984 - val_loss: 0.2579 - val_acc: 0.9788\n",
      "Epoch 17/50\n",
      "60000/60000 [==============================] - 1s 19us/step - loss: 0.0118 - acc: 0.9985 - val_loss: 0.2577 - val_acc: 0.9788\n",
      "Epoch 18/50\n",
      "60000/60000 [==============================] - 1s 23us/step - loss: 0.0113 - acc: 0.9985 - val_loss: 0.2575 - val_acc: 0.9788\n",
      "Epoch 19/50\n",
      "60000/60000 [==============================] - 47s 784us/step - loss: 0.0109 - acc: 0.9985 - val_loss: 0.2574 - val_acc: 0.9787\n",
      "Epoch 20/50\n",
      "60000/60000 [==============================] - 2s 36us/step - loss: 0.0105 - acc: 0.9986 - val_loss: 0.2574 - val_acc: 0.9787\n",
      "Epoch 21/50\n",
      "60000/60000 [==============================] - 2s 40us/step - loss: 0.0102 - acc: 0.9986 - val_loss: 0.2573 - val_acc: 0.9787\n",
      "Epoch 22/50\n",
      "60000/60000 [==============================] - 2s 26us/step - loss: 0.0099 - acc: 0.9987 - val_loss: 0.2573 - val_acc: 0.9787\n",
      "Epoch 23/50\n",
      "60000/60000 [==============================] - 1s 24us/step - loss: 0.0096 - acc: 0.9988 - val_loss: 0.2573 - val_acc: 0.9788\n",
      "Epoch 24/50\n",
      "60000/60000 [==============================] - 2s 25us/step - loss: 0.0094 - acc: 0.9988 - val_loss: 0.2574 - val_acc: 0.9787\n",
      "Epoch 25/50\n",
      "60000/60000 [==============================] - 1s 23us/step - loss: 0.0092 - acc: 0.9989 - val_loss: 0.2575 - val_acc: 0.9787\n",
      "Epoch 26/50\n",
      "60000/60000 [==============================] - 1s 24us/step - loss: 0.0090 - acc: 0.9990 - val_loss: 0.2575 - val_acc: 0.9787\n",
      "Epoch 27/50\n",
      "60000/60000 [==============================] - 1s 24us/step - loss: 0.0088 - acc: 0.9990 - val_loss: 0.2576 - val_acc: 0.9788\n",
      "Epoch 28/50\n",
      "60000/60000 [==============================] - 1s 24us/step - loss: 0.0087 - acc: 0.9990 - val_loss: 0.2576 - val_acc: 0.9788\n",
      "Epoch 29/50\n",
      "60000/60000 [==============================] - 1s 23us/step - loss: 0.0085 - acc: 0.9991 - val_loss: 0.2577 - val_acc: 0.9788\n",
      "Epoch 30/50\n",
      "60000/60000 [==============================] - 1s 22us/step - loss: 0.0084 - acc: 0.9991 - val_loss: 0.2578 - val_acc: 0.9788\n",
      "Epoch 31/50\n",
      "60000/60000 [==============================] - 1s 24us/step - loss: 0.0083 - acc: 0.9991 - val_loss: 0.2578 - val_acc: 0.9788\n",
      "Epoch 32/50\n",
      "60000/60000 [==============================] - 1s 22us/step - loss: 0.0082 - acc: 0.9991 - val_loss: 0.2578 - val_acc: 0.9788\n",
      "Epoch 33/50\n",
      "60000/60000 [==============================] - 1s 22us/step - loss: 0.0081 - acc: 0.9991 - val_loss: 0.2578 - val_acc: 0.9788\n",
      "Epoch 34/50\n",
      "60000/60000 [==============================] - 2s 25us/step - loss: 0.0080 - acc: 0.9991 - val_loss: 0.2579 - val_acc: 0.9788\n",
      "Epoch 35/50\n",
      "60000/60000 [==============================] - 1s 25us/step - loss: 0.0079 - acc: 0.9992 - val_loss: 0.2579 - val_acc: 0.9788\n",
      "Epoch 36/50\n",
      "60000/60000 [==============================] - 1s 20us/step - loss: 0.0078 - acc: 0.9992 - val_loss: 0.2579 - val_acc: 0.9788\n",
      "Epoch 37/50\n",
      "60000/60000 [==============================] - 1s 21us/step - loss: 0.0077 - acc: 0.9992 - val_loss: 0.2579 - val_acc: 0.9788\n",
      "Epoch 38/50\n",
      "60000/60000 [==============================] - 1s 21us/step - loss: 0.0076 - acc: 0.9992 - val_loss: 0.2579 - val_acc: 0.9788\n",
      "Epoch 39/50\n",
      "60000/60000 [==============================] - 1s 21us/step - loss: 0.0076 - acc: 0.9992 - val_loss: 0.2579 - val_acc: 0.9788\n",
      "Epoch 40/50\n",
      "60000/60000 [==============================] - 1s 22us/step - loss: 0.0075 - acc: 0.9992 - val_loss: 0.2579 - val_acc: 0.9789\n",
      "Epoch 41/50\n",
      "60000/60000 [==============================] - 1s 21us/step - loss: 0.0074 - acc: 0.9993 - val_loss: 0.2578 - val_acc: 0.9791\n",
      "Epoch 42/50\n",
      "60000/60000 [==============================] - 1s 21us/step - loss: 0.0073 - acc: 0.9993 - val_loss: 0.2577 - val_acc: 0.9791\n",
      "Epoch 43/50\n",
      "60000/60000 [==============================] - 1s 21us/step - loss: 0.0072 - acc: 0.9993 - val_loss: 0.2577 - val_acc: 0.9790\n",
      "Epoch 44/50\n",
      "60000/60000 [==============================] - 1s 21us/step - loss: 0.0072 - acc: 0.9993 - val_loss: 0.2577 - val_acc: 0.9790\n",
      "Epoch 45/50\n",
      "60000/60000 [==============================] - 1s 21us/step - loss: 0.0071 - acc: 0.9993 - val_loss: 0.2576 - val_acc: 0.9790\n",
      "Epoch 46/50\n",
      "60000/60000 [==============================] - 1s 21us/step - loss: 0.0070 - acc: 0.9994 - val_loss: 0.2576 - val_acc: 0.9789\n",
      "Epoch 47/50\n",
      "60000/60000 [==============================] - 1s 22us/step - loss: 0.0069 - acc: 0.9994 - val_loss: 0.2576 - val_acc: 0.9788\n",
      "Epoch 48/50\n",
      "60000/60000 [==============================] - 1s 21us/step - loss: 0.0069 - acc: 0.9994 - val_loss: 0.2575 - val_acc: 0.9788\n",
      "Epoch 49/50\n",
      "60000/60000 [==============================] - 1s 21us/step - loss: 0.0068 - acc: 0.9994 - val_loss: 0.2575 - val_acc: 0.9788\n",
      "Epoch 50/50\n",
      "60000/60000 [==============================] - 1s 21us/step - loss: 0.0067 - acc: 0.9995 - val_loss: 0.2575 - val_acc: 0.9787\n",
      "Train on 60000 samples, validate on 10000 samples\n",
      "Epoch 1/50\n",
      "60000/60000 [==============================] - 2s 41us/step - loss: 0.0418 - acc: 0.9951 - val_loss: 0.3033 - val_acc: 0.9753\n",
      "Epoch 2/50\n",
      "60000/60000 [==============================] - 1s 25us/step - loss: 0.0375 - acc: 0.9954 - val_loss: 0.3030 - val_acc: 0.9749\n",
      "Epoch 3/50\n",
      "60000/60000 [==============================] - 1s 25us/step - loss: 0.0409 - acc: 0.9955 - val_loss: 0.3199 - val_acc: 0.9743\n",
      "Epoch 4/50\n",
      "60000/60000 [==============================] - 1s 25us/step - loss: 0.0402 - acc: 0.9957 - val_loss: 0.3322 - val_acc: 0.9740\n",
      "Epoch 5/50\n",
      "60000/60000 [==============================] - 1s 25us/step - loss: 0.0344 - acc: 0.9960 - val_loss: 0.3128 - val_acc: 0.9753\n",
      "Epoch 6/50\n",
      "60000/60000 [==============================] - 1s 24us/step - loss: 0.0459 - acc: 0.9951 - val_loss: 0.3332 - val_acc: 0.9746\n",
      "Epoch 7/50\n",
      "60000/60000 [==============================] - 1s 23us/step - loss: 0.0479 - acc: 0.9949 - val_loss: 0.3062 - val_acc: 0.9771\n",
      "Epoch 8/50\n",
      "60000/60000 [==============================] - 1s 22us/step - loss: 0.0488 - acc: 0.9951 - val_loss: 0.3244 - val_acc: 0.9735\n",
      "Epoch 9/50\n",
      "60000/60000 [==============================] - 1s 22us/step - loss: 0.0460 - acc: 0.9955 - val_loss: 0.3415 - val_acc: 0.9731\n",
      "Epoch 10/50\n",
      "60000/60000 [==============================] - 807s 13ms/step - loss: 0.0410 - acc: 0.9954 - val_loss: 0.3686 - val_acc: 0.9727\n",
      "Epoch 11/50\n",
      "60000/60000 [==============================] - 2s 28us/step - loss: 0.0495 - acc: 0.9951 - val_loss: 0.3264 - val_acc: 0.9749\n",
      "Epoch 12/50\n",
      "60000/60000 [==============================] - 1s 23us/step - loss: 0.0422 - acc: 0.9956 - val_loss: 0.3377 - val_acc: 0.9741\n",
      "Epoch 13/50\n",
      "60000/60000 [==============================] - 1s 22us/step - loss: 0.0419 - acc: 0.9957 - val_loss: 0.3225 - val_acc: 0.9761\n",
      "Epoch 14/50\n",
      "60000/60000 [==============================] - 1s 24us/step - loss: 0.0483 - acc: 0.9953 - val_loss: 0.3264 - val_acc: 0.9755\n",
      "Epoch 15/50\n",
      "60000/60000 [==============================] - 1s 23us/step - loss: 0.0401 - acc: 0.9959 - val_loss: 0.3067 - val_acc: 0.9769\n",
      "Epoch 16/50\n",
      "60000/60000 [==============================] - 1s 24us/step - loss: 0.0451 - acc: 0.9954 - val_loss: 0.3415 - val_acc: 0.9753\n",
      "Epoch 17/50\n",
      "60000/60000 [==============================] - 4s 72us/step - loss: 0.0485 - acc: 0.9955 - val_loss: 0.3032 - val_acc: 0.9773\n",
      "Epoch 18/50\n",
      "60000/60000 [==============================] - 5s 78us/step - loss: 0.0399 - acc: 0.9959 - val_loss: 0.3301 - val_acc: 0.9736\n",
      "Epoch 19/50\n",
      "60000/60000 [==============================] - 4s 66us/step - loss: 0.0477 - acc: 0.9956 - val_loss: 0.3422 - val_acc: 0.9749\n",
      "Epoch 20/50\n",
      "60000/60000 [==============================] - 2s 32us/step - loss: 0.0591 - acc: 0.9945 - val_loss: 0.3402 - val_acc: 0.9751\n",
      "Epoch 21/50\n",
      "60000/60000 [==============================] - 2s 32us/step - loss: 0.0421 - acc: 0.9960 - val_loss: 0.3532 - val_acc: 0.9732\n",
      "Epoch 22/50\n",
      "60000/60000 [==============================] - 2s 33us/step - loss: 0.0397 - acc: 0.9963 - val_loss: 0.3578 - val_acc: 0.9740\n",
      "Epoch 23/50\n"
     ]
    },
    {
     "name": "stdout",
     "output_type": "stream",
     "text": [
      "60000/60000 [==============================] - 2s 34us/step - loss: 0.0376 - acc: 0.9964 - val_loss: 0.3283 - val_acc: 0.9748\n",
      "Epoch 24/50\n",
      "60000/60000 [==============================] - 2s 35us/step - loss: 0.0407 - acc: 0.9962 - val_loss: 0.3566 - val_acc: 0.9742\n",
      "Epoch 25/50\n",
      "60000/60000 [==============================] - 2s 35us/step - loss: 0.0500 - acc: 0.9957 - val_loss: 0.3136 - val_acc: 0.9780\n",
      "Epoch 26/50\n",
      "60000/60000 [==============================] - 2s 35us/step - loss: 0.0384 - acc: 0.9964 - val_loss: 0.3541 - val_acc: 0.9730\n",
      "Epoch 27/50\n",
      "60000/60000 [==============================] - 2s 36us/step - loss: 0.0429 - acc: 0.9960 - val_loss: 0.3604 - val_acc: 0.9737\n",
      "Epoch 28/50\n",
      "60000/60000 [==============================] - 2s 37us/step - loss: 0.0403 - acc: 0.9963 - val_loss: 0.3723 - val_acc: 0.9738\n",
      "Epoch 29/50\n",
      "60000/60000 [==============================] - 2s 37us/step - loss: 0.0365 - acc: 0.9966 - val_loss: 0.3702 - val_acc: 0.9732\n",
      "Epoch 30/50\n",
      "60000/60000 [==============================] - 2s 37us/step - loss: 0.0409 - acc: 0.9964 - val_loss: 0.3555 - val_acc: 0.9742\n",
      "Epoch 31/50\n",
      "60000/60000 [==============================] - 2s 37us/step - loss: 0.0351 - acc: 0.9968 - val_loss: 0.3384 - val_acc: 0.9750\n",
      "Epoch 32/50\n",
      "60000/60000 [==============================] - 2s 37us/step - loss: 0.0497 - acc: 0.9958 - val_loss: 0.3618 - val_acc: 0.9752\n",
      "Epoch 33/50\n",
      "60000/60000 [==============================] - 2s 37us/step - loss: 0.0473 - acc: 0.9958 - val_loss: 0.3214 - val_acc: 0.9775\n",
      "Epoch 34/50\n",
      "60000/60000 [==============================] - 39s 650us/step - loss: 0.0430 - acc: 0.9963 - val_loss: 0.3129 - val_acc: 0.9775\n",
      "Epoch 35/50\n",
      "60000/60000 [==============================] - 2s 27us/step - loss: 0.0459 - acc: 0.9962 - val_loss: 0.3923 - val_acc: 0.9727\n",
      "Epoch 36/50\n",
      "60000/60000 [==============================] - 1s 22us/step - loss: 0.0452 - acc: 0.9957 - val_loss: 0.3187 - val_acc: 0.9771\n",
      "Epoch 37/50\n",
      "60000/60000 [==============================] - 1s 21us/step - loss: 0.0470 - acc: 0.9960 - val_loss: 0.3568 - val_acc: 0.9744\n",
      "Epoch 38/50\n",
      "60000/60000 [==============================] - 1s 23us/step - loss: 0.0514 - acc: 0.9957 - val_loss: 0.3419 - val_acc: 0.9760\n",
      "Epoch 39/50\n",
      "60000/60000 [==============================] - 1s 23us/step - loss: 0.0399 - acc: 0.9967 - val_loss: 0.3153 - val_acc: 0.9772\n",
      "Epoch 40/50\n",
      "60000/60000 [==============================] - 3s 54us/step - loss: 0.0409 - acc: 0.9966 - val_loss: 0.3863 - val_acc: 0.9732\n",
      "Epoch 41/50\n",
      "60000/60000 [==============================] - 3s 58us/step - loss: 0.0480 - acc: 0.9959 - val_loss: 0.3627 - val_acc: 0.9755\n",
      "Epoch 42/50\n",
      "60000/60000 [==============================] - 5s 80us/step - loss: 0.0545 - acc: 0.9954 - val_loss: 0.3699 - val_acc: 0.9745\n",
      "Epoch 43/50\n",
      "60000/60000 [==============================] - 4s 62us/step - loss: 0.0482 - acc: 0.9960 - val_loss: 0.3513 - val_acc: 0.9757\n",
      "Epoch 44/50\n",
      "60000/60000 [==============================] - 2s 34us/step - loss: 0.0508 - acc: 0.9957 - val_loss: 0.3258 - val_acc: 0.9772\n",
      "Epoch 45/50\n",
      "60000/60000 [==============================] - 2s 33us/step - loss: 0.0408 - acc: 0.9967 - val_loss: 0.4169 - val_acc: 0.9709\n",
      "Epoch 46/50\n",
      "60000/60000 [==============================] - 2s 34us/step - loss: 0.0582 - acc: 0.9953 - val_loss: 0.3900 - val_acc: 0.9729\n",
      "Epoch 47/50\n",
      "60000/60000 [==============================] - 2s 35us/step - loss: 0.0388 - acc: 0.9966 - val_loss: 0.3540 - val_acc: 0.9754\n",
      "Epoch 48/50\n",
      "60000/60000 [==============================] - 2s 35us/step - loss: 0.0461 - acc: 0.9962 - val_loss: 0.3995 - val_acc: 0.9727\n",
      "Epoch 49/50\n",
      "60000/60000 [==============================] - 2s 37us/step - loss: 0.0407 - acc: 0.9967 - val_loss: 0.3760 - val_acc: 0.9743\n",
      "Epoch 50/50\n",
      "60000/60000 [==============================] - 2s 39us/step - loss: 0.0275 - acc: 0.9977 - val_loss: 0.3286 - val_acc: 0.9772\n",
      "Train on 60000 samples, validate on 10000 samples\n",
      "Epoch 1/50\n",
      "60000/60000 [==============================] - 4s 59us/step - loss: 0.0233 - acc: 0.9980 - val_loss: 0.3242 - val_acc: 0.9775\n",
      "Epoch 2/50\n",
      "60000/60000 [==============================] - 2s 30us/step - loss: 0.0204 - acc: 0.9982 - val_loss: 0.3212 - val_acc: 0.9778\n",
      "Epoch 3/50\n",
      "60000/60000 [==============================] - 2s 30us/step - loss: 0.0185 - acc: 0.9984 - val_loss: 0.3194 - val_acc: 0.9775\n",
      "Epoch 4/50\n",
      "60000/60000 [==============================] - 2s 32us/step - loss: 0.0172 - acc: 0.9986 - val_loss: 0.3181 - val_acc: 0.9776\n",
      "Epoch 5/50\n",
      "60000/60000 [==============================] - 2s 30us/step - loss: 0.0163 - acc: 0.9987 - val_loss: 0.3172 - val_acc: 0.9778\n",
      "Epoch 6/50\n",
      "60000/60000 [==============================] - 2s 30us/step - loss: 0.0154 - acc: 0.9987 - val_loss: 0.3166 - val_acc: 0.9776\n",
      "Epoch 7/50\n",
      "60000/60000 [==============================] - 2s 30us/step - loss: 0.0145 - acc: 0.9988 - val_loss: 0.3163 - val_acc: 0.9775\n",
      "Epoch 8/50\n",
      "60000/60000 [==============================] - 370s 6ms/step - loss: 0.0135 - acc: 0.9989 - val_loss: 0.3160 - val_acc: 0.9775\n",
      "Epoch 9/50\n",
      "60000/60000 [==============================] - 1s 19us/step - loss: 0.0128 - acc: 0.9990 - val_loss: 0.3157 - val_acc: 0.9775\n",
      "Epoch 10/50\n",
      "60000/60000 [==============================] - 1s 18us/step - loss: 0.0123 - acc: 0.9990 - val_loss: 0.3155 - val_acc: 0.9775\n",
      "Epoch 11/50\n",
      "60000/60000 [==============================] - 1s 18us/step - loss: 0.0119 - acc: 0.9990 - val_loss: 0.3151 - val_acc: 0.9773\n",
      "Epoch 12/50\n",
      "60000/60000 [==============================] - 1s 19us/step - loss: 0.0117 - acc: 0.9991 - val_loss: 0.3147 - val_acc: 0.9772\n",
      "Epoch 13/50\n",
      "60000/60000 [==============================] - 1s 20us/step - loss: 0.0114 - acc: 0.9991 - val_loss: 0.3143 - val_acc: 0.9772\n",
      "Epoch 14/50\n",
      "60000/60000 [==============================] - 1s 18us/step - loss: 0.0113 - acc: 0.9992 - val_loss: 0.3140 - val_acc: 0.9772\n",
      "Epoch 15/50\n",
      "60000/60000 [==============================] - 1s 19us/step - loss: 0.0112 - acc: 0.9992 - val_loss: 0.3138 - val_acc: 0.9772\n",
      "Epoch 16/50\n",
      "60000/60000 [==============================] - 3s 47us/step - loss: 0.0111 - acc: 0.9992 - val_loss: 0.3135 - val_acc: 0.9772\n",
      "Epoch 17/50\n",
      "60000/60000 [==============================] - 5s 86us/step - loss: 0.0108 - acc: 0.9992 - val_loss: 0.3131 - val_acc: 0.9773\n",
      "Epoch 18/50\n",
      "60000/60000 [==============================] - 4s 68us/step - loss: 0.0103 - acc: 0.9993 - val_loss: 0.3127 - val_acc: 0.9773\n",
      "Epoch 19/50\n",
      "60000/60000 [==============================] - 2s 32us/step - loss: 0.0100 - acc: 0.9993 - val_loss: 0.3125 - val_acc: 0.9773\n",
      "Epoch 20/50\n",
      "60000/60000 [==============================] - 2s 31us/step - loss: 0.0098 - acc: 0.9993 - val_loss: 0.3123 - val_acc: 0.9773\n",
      "Epoch 21/50\n",
      "60000/60000 [==============================] - 2s 30us/step - loss: 0.0098 - acc: 0.9993 - val_loss: 0.3121 - val_acc: 0.9773\n",
      "Epoch 22/50\n",
      "60000/60000 [==============================] - 2s 31us/step - loss: 0.0097 - acc: 0.9993 - val_loss: 0.3120 - val_acc: 0.9773\n",
      "Epoch 23/50\n",
      "60000/60000 [==============================] - 2s 33us/step - loss: 0.0096 - acc: 0.9993 - val_loss: 0.3119 - val_acc: 0.9773\n",
      "Epoch 24/50\n",
      "60000/60000 [==============================] - 2s 31us/step - loss: 0.0096 - acc: 0.9993 - val_loss: 0.3118 - val_acc: 0.9773\n",
      "Epoch 25/50\n",
      "60000/60000 [==============================] - 2s 30us/step - loss: 0.0096 - acc: 0.9993 - val_loss: 0.3117 - val_acc: 0.9773\n",
      "Epoch 26/50\n",
      "60000/60000 [==============================] - 2s 35us/step - loss: 0.0095 - acc: 0.9994 - val_loss: 0.3116 - val_acc: 0.9773\n",
      "Epoch 27/50\n",
      "60000/60000 [==============================] - 2s 32us/step - loss: 0.0095 - acc: 0.9994 - val_loss: 0.3115 - val_acc: 0.9773\n",
      "Epoch 28/50\n",
      "60000/60000 [==============================] - 2s 32us/step - loss: 0.0095 - acc: 0.9994 - val_loss: 0.3114 - val_acc: 0.9773\n",
      "Epoch 29/50\n",
      "60000/60000 [==============================] - 2s 32us/step - loss: 0.0095 - acc: 0.9994 - val_loss: 0.3114 - val_acc: 0.9773\n",
      "Epoch 30/50\n",
      "60000/60000 [==============================] - 2s 32us/step - loss: 0.0095 - acc: 0.9994 - val_loss: 0.3113 - val_acc: 0.9773\n",
      "Epoch 31/50\n",
      "60000/60000 [==============================] - 2s 33us/step - loss: 0.0095 - acc: 0.9994 - val_loss: 0.3113 - val_acc: 0.9773\n",
      "Epoch 32/50\n"
     ]
    },
    {
     "name": "stdout",
     "output_type": "stream",
     "text": [
      "60000/60000 [==============================] - 2s 32us/step - loss: 0.0095 - acc: 0.9994 - val_loss: 0.3113 - val_acc: 0.9773\n",
      "Epoch 33/50\n",
      "60000/60000 [==============================] - 2s 30us/step - loss: 0.0095 - acc: 0.9994 - val_loss: 0.3112 - val_acc: 0.9773\n",
      "Epoch 34/50\n",
      "60000/60000 [==============================] - 2s 31us/step - loss: 0.0095 - acc: 0.9994 - val_loss: 0.3112 - val_acc: 0.9773\n",
      "Epoch 35/50\n",
      "60000/60000 [==============================] - 103s 2ms/step - loss: 0.0095 - acc: 0.9994 - val_loss: 0.3112 - val_acc: 0.9773\n",
      "Epoch 36/50\n",
      "60000/60000 [==============================] - 1s 18us/step - loss: 0.0095 - acc: 0.9994 - val_loss: 0.3112 - val_acc: 0.9773\n",
      "Epoch 37/50\n",
      "60000/60000 [==============================] - 1s 18us/step - loss: 0.0094 - acc: 0.9994 - val_loss: 0.3111 - val_acc: 0.9773\n",
      "Epoch 38/50\n",
      "60000/60000 [==============================] - 1s 18us/step - loss: 0.0094 - acc: 0.9994 - val_loss: 0.3111 - val_acc: 0.9773\n",
      "Epoch 39/50\n",
      "60000/60000 [==============================] - 1s 20us/step - loss: 0.0094 - acc: 0.9994 - val_loss: 0.3111 - val_acc: 0.9773\n",
      "Epoch 40/50\n",
      "60000/60000 [==============================] - 1s 19us/step - loss: 0.0094 - acc: 0.9994 - val_loss: 0.3111 - val_acc: 0.9773\n",
      "Epoch 41/50\n",
      "60000/60000 [==============================] - 2s 28us/step - loss: 0.0094 - acc: 0.9994 - val_loss: 0.3110 - val_acc: 0.9773\n",
      "Epoch 42/50\n",
      "60000/60000 [==============================] - 1s 19us/step - loss: 0.0094 - acc: 0.9994 - val_loss: 0.3110 - val_acc: 0.9774\n",
      "Epoch 43/50\n",
      "60000/60000 [==============================] - 4s 64us/step - loss: 0.0094 - acc: 0.9994 - val_loss: 0.3110 - val_acc: 0.9774\n",
      "Epoch 44/50\n",
      "60000/60000 [==============================] - 5s 77us/step - loss: 0.0094 - acc: 0.9994 - val_loss: 0.3110 - val_acc: 0.9774\n",
      "Epoch 45/50\n",
      "60000/60000 [==============================] - 3s 52us/step - loss: 0.0094 - acc: 0.9994 - val_loss: 0.3110 - val_acc: 0.9774\n",
      "Epoch 46/50\n",
      "60000/60000 [==============================] - 2s 29us/step - loss: 0.0094 - acc: 0.9994 - val_loss: 0.3109 - val_acc: 0.9774\n",
      "Epoch 47/50\n",
      "60000/60000 [==============================] - 2s 28us/step - loss: 0.0094 - acc: 0.9994 - val_loss: 0.3109 - val_acc: 0.9774\n",
      "Epoch 48/50\n",
      "60000/60000 [==============================] - 2s 29us/step - loss: 0.0094 - acc: 0.9994 - val_loss: 0.3109 - val_acc: 0.9774\n",
      "Epoch 49/50\n",
      "60000/60000 [==============================] - 2s 29us/step - loss: 0.0094 - acc: 0.9994 - val_loss: 0.3109 - val_acc: 0.9774\n",
      "Epoch 50/50\n",
      "60000/60000 [==============================] - 2s 29us/step - loss: 0.0094 - acc: 0.9994 - val_loss: 0.3109 - val_acc: 0.9774\n",
      "Train on 60000 samples, validate on 10000 samples\n",
      "Epoch 1/50\n",
      "60000/60000 [==============================] - 4s 61us/step - loss: 0.0397 - acc: 0.9969 - val_loss: 0.3299 - val_acc: 0.9766\n",
      "Epoch 2/50\n",
      "60000/60000 [==============================] - 2s 37us/step - loss: 0.0483 - acc: 0.9962 - val_loss: 0.3366 - val_acc: 0.9762\n",
      "Epoch 3/50\n",
      "19200/60000 [========>.....................] - ETA: 1s - loss: 0.0357 - acc: 0.9971"
     ]
    }
   ],
   "source": [
    "from keras.models import Sequential\n",
    "from keras.layers import Dense, Activation\n",
    "from keras import optimizers\n",
    "\n",
    "batch_size = 128\n",
    "epochs = 50\n",
    "\n",
    "model = Sequential()\n",
    "\n",
    "#Input layer: 784 neurons\n",
    "\n",
    "#Hidden layer: 128 neurons\n",
    "model.add(Dense(128, activation='relu', input_dim=784))\n",
    "\n",
    "# Output layer: 10 Neurons\n",
    "model.add(Dense(10, activation='softmax'))\n",
    "\n",
    "model.summary()\n",
    "\n",
    "learningRates = [0.01,0.05,0.1]\n",
    "\n",
    "# SDG optimzer\n",
    "#for i in learningRates:\n",
    "\n",
    "    # Optimizer:\n",
    " #   sgd = optimizers.SGD(lr=0.01)\n",
    "\n",
    "  ##  model.compile(loss='categorical_crossentropy',\n",
    "  #            optimizer=sgd,\n",
    "   #           metrics=['accuracy'])\n",
    "    # Fitting:\n",
    " #   history = model.fit(x_train, y_train_c,\n",
    " #                   batch_size=batch_size,\n",
    "  #                  epochs=epochs,\n",
    " #                   verbose=1,\n",
    "  #                  validation_data=(x_test, y_test_c))\n",
    "\n",
    "  #  plot_history(history, \"Learning rate: \" + str(i))\n",
    "    \n",
    "for i in learningRates:\n",
    "\n",
    "    # Optimizer: SGD\n",
    "    sgd = optimizers.SGD(lr=0.01)\n",
    "\n",
    "    model.compile(loss='categorical_crossentropy',\n",
    "              optimizer=sgd,\n",
    "              metrics=['accuracy'])\n",
    "    # Fitting:\n",
    "    historySGD = model.fit(x_train, y_train_c,\n",
    "                    batch_size=batch_size,\n",
    "                    epochs=epochs,\n",
    "                    verbose=1,\n",
    "                    validation_data=(x_test, y_test_c))\n",
    "    \n",
    "     # Optimizer: Adam\n",
    "    adam = optimizers.Adam(lr=0.01)\n",
    "\n",
    "    model.compile(loss='categorical_crossentropy',\n",
    "              optimizer=adam,\n",
    "              metrics=['accuracy'])\n",
    "    # Fitting:\n",
    "    historyAdam = model.fit(x_train, y_train_c,\n",
    "                    batch_size=batch_size,\n",
    "                    epochs=epochs,\n",
    "                    verbose=1,\n",
    "                    validation_data=(x_test, y_test_c))\n",
    "    \n",
    "    comparison_plot(historySGD,historyAdam,\"SGD\",\"Adam\", \"Learning rate: \" + str(i))\n",
    "    \n",
    "    \n",
    "    \n",
    "    "
   ]
  },
  {
   "cell_type": "code",
   "execution_count": null,
   "metadata": {},
   "outputs": [],
   "source": []
  },
  {
   "cell_type": "code",
   "execution_count": 23,
   "metadata": {
    "ExecuteTime": {
     "end_time": "2018-02-23T15:42:45.497806Z",
     "start_time": "2018-02-23T15:42:44.961166Z"
    }
   },
   "outputs": [],
   "source": []
  },
  {
   "cell_type": "markdown",
   "metadata": {},
   "source": [
    "**Question**: What happens if the learning rate of SGD is A) very large B) very small? Please answer A) and B) with one full sentence each (double click this markdown cell to edit).\n",
    "\n",
    "**Answer**:\n",
    "\n",
    "A)\n",
    "\n",
    "B)\n",
    "\n",
    "**Question**: At which epoch (approximately) does the Adam optimizer start to overfit (on MNIST)? Please answer with one full sentence.\n",
    "\n",
    "**Answer**:\n",
    "\n",
    "**Question**: Explain the qualitative difference between the loss curves and the accuracy curves with respect to signs of overfitting. Please answer with at most 3 full sentences.\n",
    "\n",
    "**Answer**:"
   ]
  },
  {
   "cell_type": "code",
   "execution_count": null,
   "metadata": {},
   "outputs": [],
   "source": []
  },
  {
   "cell_type": "markdown",
   "metadata": {},
   "source": [
    "## Exercise 4: Model performance as a function of number of hidden neurons (8 points)\n",
    "\n",
    "### Description\n",
    "\n",
    "Investigate how the best validation loss and accuracy depends on the number of hidden neurons in a single layer.\n",
    "\n",
    "1. Fit a reasonable number of models (e.g. 5) with different hidden layer sizes (between 10 and 1000 hidden neurons) to the MNIST dataset. You may use the Adam optimizer and a meaningful number of epochs (overfitting!). (3 pts)\n",
    "2. Plot the best validation loss and accuracy versus the number of hidden neurons. Is the observed trend in accordance with the [general approximation theorem](https://en.wikipedia.org/wiki/Universal_approximation_theorem)? If not, what might be practical reasons for the deviation? (2 sentences max.) (3 pts)\n",
    "3. Repeat steps 1. & 2. for the Fashion-MNIST dataset. (2 pts)\n",
    "\n",
    "In this exercise we fit each model only for one initialization and random seed. In practice one would collect some statistics (e.g. 25-, 50-, 75-percentiles) for each layer size by fitting each model several times with different initializations and the random seeds. You may also want to do this here. It is a good exercise, but not mandatory as it takes quite a bit of computation time.\n",
    "\n",
    "### Solution"
   ]
  },
  {
   "cell_type": "code",
   "execution_count": 69,
   "metadata": {
    "ExecuteTime": {
     "end_time": "2018-02-23T14:58:15.181352Z",
     "start_time": "2018-02-23T14:31:52.623267Z"
    }
   },
   "outputs": [],
   "source": []
  },
  {
   "cell_type": "markdown",
   "metadata": {},
   "source": [
    "Answer to question 2:"
   ]
  },
  {
   "cell_type": "markdown",
   "metadata": {},
   "source": []
  },
  {
   "cell_type": "markdown",
   "metadata": {},
   "source": [
    "## Exercise 5: Going deeper: tricks and regularization (8 points)\n",
    "\n",
    "### Description\n",
    "\n",
    "Adding hidden layers to a deep network does not necessarily lead to a straight-forward improvement of performance. Overfitting can be counteracted with regularization and dropout. Batch normalization is supposed to mainly speed up convergence. Since the MNIST dataset is almost perfectly solved already by a one-hidden-layer network we use the Fashion-MNIST dataset in this exercise.\n",
    "\n",
    "1. Add one or two hidden layers with 50 hidden neurons (each) and train the network for a sufficiently long time (at least 100 epochs). Since deep models are very expressive you will most probably encounter overfitting. Try to improve the best validation scores of the model (even if it is only a minor improvement) by experimenting with batch_normalization layers, dropout layers and l1- and l2-regularization on weights (kernels) and biases. (4 pts)\n",
    "2. After you have found good settings, plot the learning curves for both models, naive (=no tricks/regularization) and tuned (=tricks + regularized), preferably together in a comparison plot. Discuss your results; refer to the model performance with only 1 hidden layer. (2 sentences max.) (2pts)\n",
    "3. Fit your best performing (probably regularized deep) model also to MNIST for having a reference for the next exercise. Plot the resulting learning curves. (2 pts)\n",
    "\n",
    "### Solution"
   ]
  },
  {
   "cell_type": "code",
   "execution_count": 106,
   "metadata": {
    "ExecuteTime": {
     "end_time": "2018-02-23T16:26:50.480763Z",
     "start_time": "2018-02-23T16:06:32.938435Z"
    }
   },
   "outputs": [],
   "source": []
  },
  {
   "cell_type": "markdown",
   "metadata": {},
   "source": [
    "Answer to question 2 (comments):"
   ]
  },
  {
   "cell_type": "markdown",
   "metadata": {},
   "source": []
  },
  {
   "cell_type": "code",
   "execution_count": null,
   "metadata": {},
   "outputs": [],
   "source": []
  },
  {
   "cell_type": "markdown",
   "metadata": {},
   "source": [
    "## Exercise 6: Convolutional neural networks (CNNs) (10 points)\n",
    "\n",
    "### Description\n",
    "\n",
    "Convolutional neural networks have an inductive bias that is well adapted to image classification.\n",
    "\n",
    "1. Design a convolutional neural network, play with different architectures and parameters. Hint: You may get valuable inspiration from the keras [examples](https://github.com/keras-team/keras/tree/master/examples). (4 pts)\n",
    "2. Plot the learning curves of the convolutional neural network for MNIST and Fashion-MNIST. (4 pts)\n",
    "3. How does the CNN performance compare to the so far best performing (deep) neural network model for the two data sets? (2 sentences max.) (2 pts)\n",
    "\n",
    "### Solution"
   ]
  },
  {
   "cell_type": "code",
   "execution_count": 67,
   "metadata": {
    "ExecuteTime": {
     "end_time": "2018-02-23T16:05:21.840299Z",
     "start_time": "2018-02-23T15:51:11.993053Z"
    }
   },
   "outputs": [],
   "source": []
  },
  {
   "cell_type": "markdown",
   "metadata": {},
   "source": [
    "Answer to question 3:"
   ]
  },
  {
   "cell_type": "markdown",
   "metadata": {},
   "source": []
  },
  {
   "cell_type": "markdown",
   "metadata": {},
   "source": [
    "## Exercise 7: Sigmoidal activation function and batch-normalization (6 points)\n",
    "\n",
    "### Description:\n",
    "\n",
    "In the original publication of batch normalization [Ioffe and Szegedy, 2014](https://arxiv.org/pdf/1502.03167.pdf), the authors mention a particularly beneficial effect of their method on networks with sigmoidal activation functions. This is because such networks usually suffer from saturating activations/vanishing gradients. Here we want to reproduce this behaviour (Chose either MNIST or Fashion-MNIST for this exercise).\n",
    "\n",
    "1. Implement the same convolutional network as in the previous exercise, but using the sigmoid activation function instead of the standard choice ReLU. Train the network for a reasonable amount of time. What do you observe? (1 sentence max.) (3 pts)\n",
    "2. Add batch-normalization layers to all convolutional and fully-connected layers (i.e. before each layer with learnable parameters). How does the performance change? Can the network reach the ReLU-CNN performance of the previous exercise? (1 sentence max.) (3 pts)\n",
    "3. **BONUS (optional, not graded**): Investigate our initial guess that saturating activity/vanishing gradients might be the cause of this behaviour. For that, create histograms of the hidden activitions for different hidden layers for the sigmoid-CNN and the sigmoid-CNN with batch-normalization (counting over both, samples and neurons per layer). You may only chose layers with learnable parameters. What do you observe?\n",
    "Hint: You can use the [keract](https://github.com/philipperemy/keract) package to access neural activation values for all layers of your network model.\n",
    "\n",
    "\n",
    "\n",
    "### Solution:"
   ]
  },
  {
   "cell_type": "code",
   "execution_count": null,
   "metadata": {},
   "outputs": [],
   "source": []
  },
  {
   "cell_type": "markdown",
   "metadata": {},
   "source": [
    "Answer to question 1:"
   ]
  },
  {
   "cell_type": "markdown",
   "metadata": {},
   "source": []
  },
  {
   "cell_type": "markdown",
   "metadata": {},
   "source": [
    "Answer to question 2:"
   ]
  },
  {
   "cell_type": "markdown",
   "metadata": {},
   "source": []
  }
 ],
 "metadata": {
  "kernelspec": {
   "display_name": "cs456env",
   "language": "python",
   "name": "cs456env"
  },
  "language_info": {
   "codemirror_mode": {
    "name": "ipython",
    "version": 3
   },
   "file_extension": ".py",
   "mimetype": "text/x-python",
   "name": "python",
   "nbconvert_exporter": "python",
   "pygments_lexer": "ipython3",
   "version": "3.6.7"
  }
 },
 "nbformat": 4,
 "nbformat_minor": 2
}
